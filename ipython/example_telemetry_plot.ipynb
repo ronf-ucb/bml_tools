{
 "metadata": {
  "name": "",
  "signature": "sha256:8d5b4cea7c32e2475617555cbe6edf5d81d17bed89f21b183d22bb6099179c93"
 },
 "nbformat": 3,
 "nbformat_minor": 0,
 "worksheets": [
  {
   "cells": [
    {
     "cell_type": "code",
     "collapsed": false,
     "input": [
      "%pylab\n",
      "# uncomment this line to switch to inline notebook plotting.\n",
      "#%matplotlib inline       \n",
      "import numpy as np\n",
      "import matplotlib.pyplot as plot\n",
      "\n",
      "from telemetryImport import *"
     ],
     "language": "python",
     "metadata": {},
     "outputs": [
      {
       "output_type": "stream",
       "stream": "stdout",
       "text": [
        "Using matplotlib backend: WXAgg\n",
        "Populating the interactive namespace from numpy and matplotlib\n"
       ]
      }
     ],
     "prompt_number": 1
    },
    {
     "cell_type": "code",
     "collapsed": false,
     "input": [
      "S = telemetryImport('example_imudata.txt')\n",
      "S"
     ],
     "language": "python",
     "metadata": {},
     "outputs": [
      {
       "output_type": "stream",
       "stream": "stdout",
       "text": [
        "telemetryImport 9/27/14 v1.0 Importing  example_imudata.txt\n",
        "Got 501 samples\n"
       ]
      },
      {
       "metadata": {},
       "output_type": "pyout",
       "prompt_number": 2,
       "text": [
        "<telemetryImport.TelemetryData instance at 0x06D1F558>"
       ]
      }
     ],
     "prompt_number": 2
    },
    {
     "cell_type": "code",
     "collapsed": false,
     "input": [
      "#TODO: These should be moved to an \"overview plot\" function\n",
      "length = 16\n",
      "width = 8\n",
      "fig = figure(figsize = (length,width))\n",
      "\n",
      "# gyro data\n",
      "plot.subplot(3,2,1)\n",
      "plot.plot(S.time, S.GyroX,'k--')\n",
      "plot.plot(S.time, S.GyroY, 'g.')\n",
      "plot.plot(S.time, S.GyroZ, 'b')\n",
      "xlabel('time [ms]')\n",
      "ylabel('Gyro rad/s')\n",
      "legend(['X', 'Y', 'Z'])\n",
      "\n",
      "# actual and commanded leg position\n",
      "plot.subplot(3,2,2)\n",
      "plot.plot(S.time, S.rightLegPos,'k')\n",
      "plot.plot(S.time, S.leftLegPos,'b--')\n",
      "plot.plot(S.time, S.commandedRightLegPos)\n",
      "plot.plot(S.time, S.commandedLeftLegPos)\n",
      "xlabel('time [ms]')\n",
      "ylabel('Leg Position')\n",
      "legend(['RPos','LPos','Rref','Lref'])\n",
      "\n",
      "# accelerometer data\n",
      "plot.subplot(3,2,3)\n",
      "plot.plot(S.time, S.AX,'k--')\n",
      "plot.plot(S.time, S.AY,'g.')\n",
      "plot.plot(S.time, S.AZ,'b')\n",
      "xlabel('time [ms]')\n",
      "ylabel('Accel $ m s^{-2}$')\n",
      "legend(['X', 'Y', 'Z'])\n",
      "\n",
      "#back EMF\n",
      "plot.subplot(3,2,4)\n",
      "plot.plot(S.time, S.RBEMF,'k')\n",
      "plot.plot(S.time, S.LBEMF,'b--')\n",
      "xlabel('time [ms]')\n",
      "ylabel('Back EMF (V)')\n",
      "legend(['Right', 'Left'])\n",
      "ax = fig.add_subplot(3,2,4)\n",
      "ax.axhline(linewidth=1, color='m')\n",
      "\n",
      "# Motor PWM \n",
      "plot.subplot(3,2,5)\n",
      "plot.plot(S.time, S.DCR,'k')\n",
      "plot.plot(S.time, S.DCL,'b--')\n",
      "xlabel('time [ms]')\n",
      "ylabel('Duty Cycle (%)')\n",
      "legend(['Right', 'Left'])\n",
      "ax = fig.add_subplot(3,2,5)\n",
      "ax.axhline(linewidth=1, color='m')\n",
      "\n",
      "#battery voltage\n",
      "plot.subplot(3,2,6)\n",
      "plot.plot(S.time, S.VBatt)\n",
      "xlabel('time [ms]')\n",
      "ylabel('Battery Voltage (V)')\n",
      "print 'S.LBEMF=', S.LBEMF[len(S.VBatt)-20:len(S.VBatt)]\n",
      "print 'S.VBatt=', S.VBatt[len(S.VBatt)-20:len(S.VBatt)]"
     ],
     "language": "python",
     "metadata": {},
     "outputs": [
      {
       "output_type": "stream",
       "stream": "stdout",
       "text": [
        "S.LBEMF= [ 0.323125    0.323125    0.323125    0.323125    0.46449219  0.\n",
        "  2.01953125  2.01953125  0.          0.         -2.01953125 -2.01953125\n",
        "  2.01953125  2.01953125  2.01953125  2.01953125 -2.01953125 -2.01953125\n",
        " -2.01953125  0.        ]\n",
        "S.VBatt= [ 3.80609319  3.80609319  3.80167264  3.80167264  3.81935484  3.81935484\n",
        "  3.53643967  3.53643967  3.53643967  3.53643967  3.53643967  3.53643967\n",
        "  3.53643967  3.53643967  3.53643967  3.53643967  3.53643967  3.53643967\n",
        "  3.53643967  3.53643967]\n"
       ]
      }
     ],
     "prompt_number": 3
    },
    {
     "cell_type": "code",
     "collapsed": false,
     "input": [
      "# calculate instant power\n",
      "fig = figure(figsize = (length,width))\n",
      "\n",
      "# Motor PWM \n",
      "plot.subplot(3,2,1)\n",
      "plot.plot(S.time, S.DCR,'k')\n",
      "plot.plot(S.time, S.DCL,'b--')\n",
      "xlabel('time [ms]')\n",
      "ylabel('Duty Cycle (%)')\n",
      "legend(['Right', 'Left'])\n",
      "ax = fig.add_subplot(3,2,1)\n",
      "ax.axhline(linewidth=1, color='m')\n",
      "\n",
      "#back EMF\n",
      "plot.subplot(3,2,2)\n",
      "plot.plot(S.time, S.RBEMF,'k')\n",
      "plot.plot(S.time, S.LBEMF,'b--')\n",
      "xlabel('time [ms]')\n",
      "ylabel('Back EMF (V)')\n",
      "legend(['Right', 'Left'])\n",
      "ax = fig.add_subplot(3,2,2)\n",
      "ax.axhline(linewidth=1, color='m')\n",
      "\n",
      "#Torque\n",
      "plot.subplot(3,2,3)\n",
      "plot.plot(S.time, S.TorqueR,'k')\n",
      "plot.plot(S.time, S.TorqueL,'b--')\n",
      "xlabel('time [ms]')\n",
      "ylabel('ave Torque (mN-m)')\n",
      "legend(['Right', 'Left'])\n",
      "ax = fig.add_subplot(3,2,3)\n",
      "ax.axhline(linewidth=1, color='m')\n",
      "\n",
      "#battery voltage\n",
      "plot.subplot(3,2,4)\n",
      "plot.plot(S.time, S.VBatt)\n",
      "xlabel('time [ms]')\n",
      "ylabel('Battery Voltage (V)')\n",
      "\n",
      "\n",
      "# Motor Power \n",
      "plot.subplot(3,2,5)\n",
      "plot.plot(S.time, S.PowerR,'k')\n",
      "plot.plot(S.time, S.PowerL,'b--')\n",
      "xlabel('time [ms]')\n",
      "ylabel('battery power (W)')\n",
      "legend(['Right', 'Left'])\n",
      "ax = fig.add_subplot(3,2,5)\n",
      "ax.axhline(linewidth=1, color='m')\n",
      "\n",
      "\n",
      "# Total energy \n",
      "plot.subplot(3,2,6)\n",
      "plot.plot(S.time, S.Energy,'k')\n",
      "xlabel('time [ms]')\n",
      "ylabel('battery energy (J)')"
     ],
     "language": "python",
     "metadata": {},
     "outputs": [
      {
       "metadata": {},
       "output_type": "pyout",
       "prompt_number": 4,
       "text": [
        "<matplotlib.text.Text at 0xb356b30>"
       ]
      }
     ],
     "prompt_number": 4
    },
    {
     "cell_type": "code",
     "collapsed": false,
     "input": [],
     "language": "python",
     "metadata": {},
     "outputs": [],
     "prompt_number": 4
    }
   ],
   "metadata": {}
  }
 ]
}