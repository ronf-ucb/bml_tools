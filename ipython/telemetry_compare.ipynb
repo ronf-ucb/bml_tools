{
 "metadata": {
  "name": "",
  "signature": "sha256:9cf6e8754d1e18e09af9c161f3ccd12869829ecf90a45f5e2463c6ad6c6a88de"
 },
 "nbformat": 3,
 "nbformat_minor": 0,
 "worksheets": [
  {
   "cells": [
    {
     "cell_type": "heading",
     "level": 3,
     "metadata": {},
     "source": [
      "Compare data from two runs of telemetry to see difference between loaded and unloaded."
     ]
    },
    {
     "cell_type": "code",
     "collapsed": false,
     "input": [
      "%pylab\n",
      "# uncomment this line to switch to inline notebook plotting.\n",
      "#%matplotlib inline       \n",
      "import numpy as np\n",
      "import matplotlib.pyplot as plot\n",
      "\n",
      "rcParams['figure.subplot.left'] = 0.08 \n",
      "rcParams['figure.subplot.right'] = 0.92 \n",
      "rcParams['figure.subplot.bottom'] = 0.1 \n",
      "rcParams['figure.subplot.top'] = 0.9 \n",
      "rcParams['figure.subplot.wspace'] = 0.25 \n",
      "rcParams['figure.subplot.hspace'] = 0.5 \n",
      "rcParams['savefig.dpi'] = 300 \n",
      "rcParams['ps.fonttype'] = 42 \n",
      "rcParams['pdf.fonttype'] = 42\n",
      "from telemetryImport import *\n",
      "print 'Done Importing'"
     ],
     "language": "python",
     "metadata": {},
     "outputs": [
      {
       "output_type": "stream",
       "stream": "stdout",
       "text": [
        "Using matplotlib backend: Qt4Agg\n",
        "Populating the interactive namespace from numpy and matplotlib\n",
        "Done Importing\n"
       ]
      },
      {
       "output_type": "stream",
       "stream": "stderr",
       "text": [
        "WARNING: pylab import has clobbered these variables: ['plot']\n",
        "`%matplotlib` prevents importing * from pylab and numpy\n"
       ]
      }
     ],
     "prompt_number": 21
    },
    {
     "cell_type": "code",
     "collapsed": false,
     "input": [
      "#S = telemetryImport('example_imudata.txt')\n",
      "S = telemetryImport('../../turner-ip2.5/Python/Data/14.10.31.air.txt')  # in air comparison data\n",
      "S\n",
      "R = telemetryImport('../../turner-ip2.5/Python/Data/14.10.31.gnd.txt')  # in air comparison data\n",
      "R"
     ],
     "language": "python",
     "metadata": {},
     "outputs": [
      {
       "output_type": "stream",
       "stream": "stdout",
       "text": [
        "telemetryImport 9/27/14 v1.0 Importing  ../../turner-ip2.5/Python/Data/14.10.31.air.txt\n",
        "Got 900 samples\n",
        "telemetryImport 9/27/14 v1.0 Importing  ../../turner-ip2.5/Python/Data/14.10.31.gnd.txt\n",
        "Got"
       ]
      },
      {
       "output_type": "stream",
       "stream": "stdout",
       "text": [
        " 900 samples\n"
       ]
      },
      {
       "metadata": {},
       "output_type": "pyout",
       "prompt_number": 9,
       "text": [
        "<telemetryImport.TelemetryData instance at 0x000000000A502948>"
       ]
      }
     ],
     "prompt_number": 9
    },
    {
     "cell_type": "code",
     "collapsed": false,
     "input": [
      "# plot all state data\n",
      "def telemetryPlot(num,S):\n",
      "    length = 16\n",
      "    width = 8\n",
      "    fig = figure(num,figsize = (length,width))\n",
      "\n",
      "    # gyro data\n",
      "    plot.subplot(3,2,1)\n",
      "    plot.plot(S.time, S.GyroX,'k--')\n",
      "    plot.plot(S.time, S.GyroY, 'g.')\n",
      "    plot.plot(S.time, S.GyroZ, 'b')\n",
      "    xlabel('time [ms]')\n",
      "    ylabel('Gyro rad/s')\n",
      "    legend(['X', 'Y', 'Z'])\n",
      "    \n",
      "   # actual and commanded leg position\n",
      "    plot.subplot(3,2,2)\n",
      "    plot.plot(S.time, S.rightLegPos,'k')\n",
      "    plot.plot(S.time, S.leftLegPos,'b--')\n",
      "    plot.plot(S.time, S.commandedRightLegPos)\n",
      "    plot.plot(S.time, S.commandedLeftLegPos)\n",
      "    xlabel('time [ms]')\n",
      "    ylabel('Leg Position')\n",
      "    legend(['RPos','LPos','Rref','Lref'])\n",
      "\n",
      "    # accelerometer data\n",
      "    plot.subplot(3,2,3)\n",
      "    plot.plot(S.time, S.AX,'k--')\n",
      "    plot.plot(S.time, S.AY,'g.')\n",
      "    plot.plot(S.time, S.AZ,'b')\n",
      "    xlabel('time [ms]')\n",
      "    ylabel('Accel $ m s^{-2}$')\n",
      "    legend(['X', 'Y', 'Z'])\n",
      "\n",
      "    #back EMF\n",
      "    plot.subplot(3,2,4)\n",
      "    plot.plot(S.time, S.RBEMF,'k')\n",
      "    plot.plot(S.time, S.LBEMF,'b--')\n",
      "    xlabel('time [ms]')\n",
      "    ylabel('Back EMF (V)')\n",
      "    legend(['Right', 'Left'])\n",
      "    ax = fig.add_subplot(3,2,4)\n",
      "    ax.axhline(linewidth=1, color='m')\n",
      "\n",
      "    # Motor PWM \n",
      "    plot.subplot(3,2,5)\n",
      "    plot.plot(S.time, S.DCR,'k')\n",
      "    plot.plot(S.time, S.DCL,'b--')\n",
      "    xlabel('time [ms]')\n",
      "    ylabel('Duty Cycle (%)')\n",
      "    legend(['Right', 'Left'])\n",
      "    ax = fig.add_subplot(3,2,5)\n",
      "    ax.axhline(linewidth=1, color='m')\n",
      "\n",
      "    #battery voltage\n",
      "    plot.subplot(3,2,6)\n",
      "    plot.plot(S.time, S.VBatt)\n",
      "    xlabel('time [ms]')\n",
      "    ylabel('Battery Voltage (V)')\n",
      " \n"
     ],
     "language": "python",
     "metadata": {},
     "outputs": [],
     "prompt_number": 10
    },
    {
     "cell_type": "code",
     "collapsed": false,
     "input": [],
     "language": "python",
     "metadata": {},
     "outputs": []
    },
    {
     "cell_type": "code",
     "collapsed": false,
     "input": [
      "#telemetryPlot(1,S)\n",
      "#telemetryPlot(2,R)"
     ],
     "language": "python",
     "metadata": {},
     "outputs": [],
     "prompt_number": 25
    },
    {
     "cell_type": "code",
     "collapsed": false,
     "input": [
      "length = 16\n",
      "width = 8\n",
      "# calculate instant power\n",
      "plot.close(3)\n",
      "fig = figure(3,figsize = (length,width))\n",
      "\n",
      "# Motor PWM \n",
      "plot.subplot(3,2,1)\n",
      "plot.plot(S.time, S.DCR,'k')\n",
      "plot.plot(S.time, S.DCL,'b--')\n",
      "xlabel('time [ms]')\n",
      "ylabel('Duty Cycle (%)')\n",
      "legend(['Right', 'Left'])\n",
      "ax = fig.add_subplot(3,2,1)\n",
      "ax.axhline(linewidth=1, color='m')\n",
      "\n",
      "#back EMF\n",
      "plot.subplot(3,2,2)\n",
      "plot.plot(S.time, S.RBEMF,'k')\n",
      "plot.plot(S.time, S.LBEMF,'b--')\n",
      "xlabel('time [ms]')\n",
      "ylabel('Back EMF (V)')\n",
      "legend(['Right', 'Left'])\n",
      "ax = fig.add_subplot(3,2,2)\n",
      "ax.axhline(linewidth=1, color='m')\n",
      "\n",
      "#Torque\n",
      "plot.subplot(3,2,3)\n",
      "plot.plot(S.time, S.TorqueR,'k')\n",
      "plot.plot(S.time, S.TorqueL,'b--')\n",
      "xlabel('time [ms]')\n",
      "ylabel('ave Torque (mN-m)')\n",
      "legend(['Right', 'Left'])\n",
      "ax = fig.add_subplot(3,2,3)\n",
      "ax.axhline(linewidth=1, color='m')\n",
      "\n",
      "#battery voltage\n",
      "plot.subplot(3,2,4)\n",
      "plot.plot(S.time,S.commandedRightLegPos- S.rightLegPos,'k')\n",
      "plot.plot(S.time,S.commandedLeftLegPos - S.leftLegPos,'b')\n",
      "xlabel('time [ms]')\n",
      "ylabel('Leg position error)')\n",
      "\n",
      "# Motor Power \n",
      "plot.subplot(3,2,5)\n",
      "plot.plot(S.time, S.PowerR,'k')\n",
      "plot.plot(S.time, S.PowerL,'b--')\n",
      "xlabel('time [ms]')\n",
      "ylabel('battery power (W)')\n",
      "legend(['Right', 'Left'])\n",
      "ax = fig.add_subplot(3,2,5)\n",
      "ax.axhline(linewidth=1, color='m')\n",
      "\n",
      "# Total energy \n",
      "plot.subplot(3,2,6)\n",
      "plot.plot(S.time, S.Energy,'k')\n",
      "xlabel('time [ms]')\n",
      "ylabel('battery energy (J)')"
     ],
     "language": "python",
     "metadata": {},
     "outputs": []
    },
    {
     "cell_type": "code",
     "collapsed": false,
     "input": [],
     "language": "python",
     "metadata": {},
     "outputs": []
    },
    {
     "cell_type": "code",
     "collapsed": false,
     "input": [
      "# calculate comparison between two stored data sets\n",
      "plot.close(4)\n",
      "fig = figure(4,figsize = (length,width))\n",
      "\n",
      "# Air Torque  \n",
      "plot.subplot(3,2,1)\n",
      "plot.plot(S.time, S.TorqueR,'k')\n",
      "plot.plot(S.time, S.TorqueL,'b--')\n",
      "plot.ylim(-1,1)\n",
      "xlabel('time [ms]')\n",
      "ylabel('ave Torque (mN-m)')\n",
      "legend(['Right', 'Left'])\n",
      "title('Air torque')\n",
      "ax = fig.add_subplot(3,2,1)\n",
      "ax.axhline(linewidth=1, color='m')\n",
      "\n",
      "#Torque Ground\n",
      "plot.subplot(3,2,3)\n",
      "plot.plot(R.time, R.TorqueR,'k')\n",
      "plot.plot(R.time, R.TorqueL,'b--')\n",
      "plot.ylim(-1,1)\n",
      "xlabel('time [ms]')\n",
      "ylabel('ave Torque (mN-m)')\n",
      "legend(['Right', 'Left'])\n",
      "title('Ground Torque')\n",
      "ax = fig.add_subplot(3,2,3)\n",
      "ax.axhline(linewidth=1, color='m')\n",
      "\n",
      "#Air torque vs position\n",
      "plot.subplot(3,2,2)\n",
      "plot.plot(-S.rightLegPos, S.TorqueR,'k')  # note motor direction reversed for right vs left\n",
      "plot.plot(S.leftLegPos, S.TorqueL,'b')\n",
      "plot.ylim(-1,1)\n",
      "plot.xlim(-0.5,20)\n",
      "xlabel('leg position')\n",
      "ylabel('ave Torque (mN-m)')\n",
      "legend(['Right', 'Left'])\n",
      "title('Air torque vs position')\n",
      "ax = fig.add_subplot(3,2,2)\n",
      "ax.axhline(linewidth=1, color='m')\n",
      "\n",
      "\n",
      "#Gnd torque vs position\n",
      "plot.subplot(3,2,4)\n",
      "plot.plot(-R.rightLegPos, R.TorqueR,'k')  # note motor direction reversed for right vs left\n",
      "plot.plot(R.leftLegPos, R.TorqueL,'b')\n",
      "plot.ylim(-1,1)\n",
      "plot.xlim(-0.5,20)\n",
      "xlabel('leg position')\n",
      "ylabel('ave Torque (mN-m)')\n",
      "legend(['Right', 'Left'])\n",
      "title('Gnd torque vs position')\n",
      "ax = fig.add_subplot(3,2,4)\n",
      "ax.axhline(linewidth=1, color='m')\n",
      "\n",
      "# need to match up actual positions as there is 0.4 radian difference between goround and air\n",
      "# torque difference vs position, ground - air\n",
      "plot.subplot(3,2,5)\n",
      "plot.plot(-R.rightLegPos, R.TorqueR - S.TorqueR,'k')  # note motor direction reversed for right vs left\n",
      "plot.plot(R.leftLegPos, R.TorqueL - S.TorqueL,'b')\n",
      "plot.xlim(-0.5,20)\n",
      "plot.ylim(-1,1)\n",
      "xlabel('leg position')\n",
      "ylabel('Torque difference (mN-m)')\n",
      "legend(['Right', 'Left'])\n",
      "title('air vs gnd torque')\n",
      "ax = fig.add_subplot(3,2,5)\n",
      "ax.axhline(linewidth=1, color='m')\n",
      "\n",
      "# position difference\n",
      "plot.subplot(3,2,6)\n",
      "plot.plot(-S.rightLegPos, -(S.rightLegPos-R.rightLegPos),'k')\n",
      "plot.plot(S.leftLegPos, S.leftLegPos-R.leftLegPos,'b')\n",
      "plot.xlim(-0.5,20)\n",
      "ylabel('Leg position difference)')\n",
      "xlabel('leg position')\n",
      "legend(['Right', 'Left'])\n",
      "title('air vs gnd position')\n"
     ],
     "language": "python",
     "metadata": {},
     "outputs": [
      {
       "metadata": {},
       "output_type": "pyout",
       "prompt_number": 54,
       "text": [
        "<matplotlib.text.Text at 0x2f2ba128>"
       ]
      }
     ],
     "prompt_number": 54
    },
    {
     "cell_type": "code",
     "collapsed": false,
     "input": [],
     "language": "python",
     "metadata": {},
     "outputs": []
    }
   ],
   "metadata": {}
  }
 ]
}